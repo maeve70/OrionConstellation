{
  "nbformat": 4,
  "nbformat_minor": 0,
  "metadata": {
    "kernelspec": {
      "display_name": "Python 3",
      "language": "python",
      "name": "python3"
    },
    "language_info": {
      "codemirror_mode": {
        "name": "ipython",
        "version": 3
      },
      "file_extension": ".py",
      "mimetype": "text/x-python",
      "name": "python",
      "nbconvert_exporter": "python",
      "pygments_lexer": "ipython3",
      "version": "3.8.1"
    },
    "colab": {
      "name": "OrionConstellation.ipynb",
      "provenance": [],
      "collapsed_sections": [],
      "include_colab_link": true
    }
  },
  "cells": [
    {
      "cell_type": "markdown",
      "metadata": {
        "id": "view-in-github",
        "colab_type": "text"
      },
      "source": [
        "<a href=\"https://colab.research.google.com/github/maeve70/OrionConstellation/blob/master/OrionConstellation.ipynb\" target=\"_parent\"><img src=\"https://colab.research.google.com/assets/colab-badge.svg\" alt=\"Open In Colab\"/></a>"
      ]
    },
    {
      "cell_type": "markdown",
      "metadata": {
        "id": "KYYbyXZGViuR"
      },
      "source": [
        "## Project: Visualizing the Orion Constellation\n",
        "\n",
        "In this project you are Dr. Jillian Bellovary, a real-life astronomer for the Hayden Planetarium at the American Museum of Natural History. As an astronomer, part of your job is to study the stars. You've recently become interested in the constellation Orion, a collection of stars that appear in our night sky and form the shape of [Orion](https://en.wikipedia.org/wiki/Orion_(constellation)), a warrior God from ancient Greek mythology. \n",
        "\n",
        "As a researcher on the Hayden Planetarium team, you are in charge of visualizing the Orion constellation in 3D using the Matplotlib function `.scatter()`. To learn more about the `.scatter()` you can see the Matplotlib documentation [here](https://matplotlib.org/stable/api/_as_gen/matplotlib.pyplot.scatter.html). \n",
        "\n",
        "You will create a rotate-able visualization of the position of the Orion's stars and get a better sense of their actual positions. To achieve this, you will be mapping real data from outer space that maps the position of the stars in the sky\n",
        "\n",
        "The goal of the project is to understand spatial perspective. Once you visualize Orion in both 2D and 3D, you will be able to see the difference in the constellation shape humans see from earth versus the actual position of the stars that make up this constellation. \n",
        "\n",
        "<img src=\"https://upload.wikimedia.org/wikipedia/commons/9/91/Orion_constellation_with_star_labels.jpg\" alt=\"Orion\" style=\"width: 400px;\"/>\n",
        "\n"
      ]
    },
    {
      "cell_type": "markdown",
      "metadata": {
        "id": "JeWYH41IViuT"
      },
      "source": [
        "## 1. Set-Up\n",
        "The following set-up is new and specific to the project. It is very similar to the way you have imported Matplotlib in previous lessons.\n",
        "\n",
        "+ Add `%matplotlib notebook` in the cell below. This is a new statement that you may not have seen before. It will allow you to be able to rotate your visualization in this jupyter notebook.\n",
        "\n",
        "+ We will be using a subset of Matplotlib: `matplotlib.pyplot`. Import the subset as you have been importing it in previous lessons: `from matplotlib import pyplot as plt`\n",
        "\n",
        "\n",
        "+ In order to see our 3D visualization, we also need to add this new line after we import Matplotlib:\n",
        "`from mpl_toolkits.mplot3d import Axes3D`\n"
      ]
    },
    {
      "cell_type": "code",
      "metadata": {
        "id": "m6h-wfzuViuU"
      },
      "source": [
        "%matplotlib inline\n",
        "#%matplotlib notebook\n",
        "from matplotlib import pyplot as plt\n",
        "from mpl_toolkits.mplot3d import Axes3D;"
      ],
      "execution_count": 7,
      "outputs": []
    },
    {
      "cell_type": "markdown",
      "metadata": {
        "id": "ZyuNuMj6ViuX"
      },
      "source": [
        "## 2. Get familiar with real data\n",
        "\n",
        "Astronomers describe a star's position in the sky by using a pair of angles: declination and right ascension. Declination is similar to longitude, but it is projected on the celestian fear. Right ascension is known as the \"hour angle\" because it accounts for time of day and earth's rotaiton. Both angles are relative to the celestial equator. You can learn more about star position [here](https://en.wikipedia.org/wiki/Star_position).\n",
        "\n",
        "The `x`, `y`, and `z` lists below are composed of the x, y, z coordinates for each star in the collection of stars that make up the Orion constellation as documented in a paper by Nottingham Trent Univesity on \"The Orion constellation as an installation\" found [here](https://arxiv.org/ftp/arxiv/papers/1110/1110.3469.pdf).\n",
        "\n",
        "Spend some time looking at `x`, `y`, and `z`, does each fall within a range?"
      ]
    },
    {
      "cell_type": "code",
      "metadata": {
        "scrolled": true,
        "id": "gRhLibPEViuY"
      },
      "source": [
        "# Orion\n",
        "x = [-0.41, 0.57, 0.07, 0.00, -0.29, -0.32,-0.50,-0.23, -0.23]\n",
        "y = [4.12, 7.71, 2.36, 9.10, 13.35, 8.13, 7.19, 13.25,13.43]\n",
        "z = [2.06, 0.84, 1.56, 2.07, 2.36, 1.72, 0.66, 1.25,1.38]\n",
        "#names = "
      ],
      "execution_count": 8,
      "outputs": []
    },
    {
      "cell_type": "markdown",
      "metadata": {
        "id": "TyFyrSCXViuj"
      },
      "source": [
        "## 3. Create a 2D Visualization\n",
        "\n",
        "Before we visualize the stars in 3D, let's get a sense of what they look like in 2D. \n",
        "\n",
        "Create a figure for the 2d plot and save it to a variable name `fig`. (hint: `plt.figure()`)\n",
        "\n",
        "Add your subplot `.add_subplot()` as the single subplot, with `1,1,1`.(hint: `add_subplot(1,1,1)`)\n",
        "\n",
        "Use the scatter [function](https://matplotlib.org/api/_as_gen/matplotlib.pyplot.scatter.html) to visualize your `x` and `y` coordinates. (hint: `.scatter(x,y)`)\n",
        "\n",
        "Render your visualization. (hint: `plt.show()`)\n",
        "\n",
        "Does the 2D visualization look like the Orion constellation we see in the night sky? Do you recognize its shape in 2D? There is a curve to the sky, and this is a flat visualization, but we will visualize it in 3D in the next step to get a better sense of the actual star positions. "
      ]
    },
    {
      "cell_type": "code",
      "metadata": {
        "scrolled": true,
        "id": "H-4BZyuwVium",
        "colab": {
          "base_uri": "https://localhost:8080/",
          "height": 295
        },
        "outputId": "c29c4a86-bd73-4ebc-eb9d-c55e4a226838"
      },
      "source": [
        "#https://xkcd.com/color/rgb/\n",
        "#also, use the markers available in matplotlib\n",
        "\n",
        "fig2d = plt.figure()\n",
        "ax = fig2d.add_subplot(1,1,1)\n",
        "ax.set_facecolor('navy')\n",
        "ax.set_xlabel('x coordinates')\n",
        "ax.set_ylabel('y coordinates')\n",
        "plt.scatter(x,y, color = 'gold', marker = '*', s=70)\n",
        "plt.title('2D Constellation: Orion')\n",
        "plt.show()\n"
      ],
      "execution_count": 9,
      "outputs": [
        {
          "output_type": "display_data",
          "data": {
            "text/plain": [
              "<Figure size 432x288 with 1 Axes>"
            ],
            "image/png": "[encoded data removed]"
          },
          "metadata": {
            "needs_background": "light"
          }
        }
      ]
    },
    {
      "cell_type": "markdown",
      "metadata": {
        "id": "vn49yCogViuq"
      },
      "source": [
        "## 4. Create a 3D Visualization\n",
        "\n",
        "Create a figure for the 3D plot and save it to a variable name `fig_3d`. (hint: `plt.figure()`)\n",
        "\n",
        "\n",
        "Since this will be a 3D projection, we want to make to tell Matplotlib this will be a 3D plot.  \n",
        "\n",
        "To add a 3D projection, you must include a the projection argument. It would look like this:\n",
        "```py\n",
        "projection=\"3d\"\n",
        "```\n",
        "\n",
        "Add your subplot with `.add_subplot()` as the single subplot `1,1,1` and specify your `projection` as `3d`:\n",
        "\n",
        "`fig_3d.add_subplot(1,1,1,projection=\"3d\")`)\n",
        "\n",
        "Since this visualization will be in 3D, we will need our third dimension. In this case, our `z` coordinate. \n",
        "\n",
        "Create a new variable `constellation3d` and call the scatter [function](https://matplotlib.org/api/_as_gen/matplotlib.pyplot.scatter.html) with your `x`, `y` and `z` coordinates. \n",
        "\n",
        "Include `z` just as you have been including the other two axes. (hint: `.scatter(x,y,z)`)\n",
        "\n",
        "Render your visualization. (hint `plt.show()`.)\n"
      ]
    },
    {
      "cell_type": "markdown",
      "source": [
        "Docs:\n",
        "https://matplotlib.org/stable/gallery/mplot3d/scatter3d.html"
      ],
      "metadata": {
        "id": "gvqwgzBe8HXm"
      }
    },
    {
      "cell_type": "code",
      "metadata": {
        "scrolled": true,
        "id": "dSRxInvhViuu",
        "colab": {
          "base_uri": "https://localhost:8080/",
          "height": 248
        },
        "outputId": "d7d47330-d7a7-4e44-8b5f-1702d1f030b9"
      },
      "source": [
        "fig3d = plt.figure()\n",
        "ax3D = fig3d.add_subplot(1,1,1, projection=\"3d\")\n",
        "ax3D.set_facecolor('black')\n",
        "#plt.gca().patch.set_facecolor('white')\n",
        "ax3D.grid(False)\n",
        "ax3D.scatter(x,y,z, c='gold', marker = '*', s= 100)\n",
        "\n",
        "plt.title('3D Constellation: Orion')\n",
        "#ax3D.set_xlabel('x coordinates')\n",
        "#ax3D.set_ylabel('y coordinates')\n",
        "#ax3D.set_zlabel('z coordinates')\n",
        "\n",
        "\n",
        "#get rid of panes\n",
        "ax3D.w_xaxis.set_pane_color((0, 0, 0, 1.0))\n",
        "ax3D.w_yaxis.set_pane_color((0, 0, 0, 1.0))\n",
        "ax3D.w_zaxis.set_pane_color((0, 0, 0, 1.0))\n",
        "\n",
        "#test\n",
        "#ax3D.scatter(x,y,z, c='gold', marker=\"*\", s= 90, linewidths=1, edgecolor='blue')\n",
        "#ax3D.plot(x,y,z, c='gold', marker ='*') #with lines\n",
        "\n",
        "plt.show()"
      ],
      "execution_count": 10,
      "outputs": [
        {
          "output_type": "display_data",
          "data": {
            "text/plain": [
              "<Figure size 432x288 with 1 Axes>"
            ],
            "image/png": "[encoded data removed]"
          },
          "metadata": {
            "needs_background": "light"
          }
        }
      ]
    },
    {
      "cell_type": "code",
      "metadata": {
        "colab": {
          "base_uri": "https://localhost:8080/",
          "height": 248
        },
        "id": "HDCOblRpgn70",
        "outputId": "12b01a03-fdd3-4950-9bd7-127bc7f2a434"
      },
      "source": [
        "fig3d = plt.figure()\n",
        "ax3D = fig3d.add_subplot(1,1,1, projection=\"3d\")\n",
        "ax3D.set_facecolor('black')\n",
        "#plt.gca().patch.set_facecolor('white')\n",
        "ax3D.grid(False)\n",
        "plt.title('3D Constellation: Orion')\n",
        "ax3D.set_xlabel('x coordinates')\n",
        "ax3D.set_ylabel('y coordinates')\n",
        "ax3D.set_zlabel('z coordinates')\n",
        "ax3D.w_xaxis.set_pane_color((0, 0, 0, 1.0))\n",
        "ax3D.w_yaxis.set_pane_color((0, 0, 0, 1.0))\n",
        "ax3D.w_zaxis.set_pane_color((0, 0, 0, 1.0))\n",
        "\n",
        "ax3D.scatter(x,y,z, c='gold', marker = '*', s= 70)\n",
        "ax3D.plot(x,y,z, c='gold', marker ='*') #with lines\n",
        "\n",
        "plt.show()"
      ],
      "execution_count": 11,
      "outputs": [
        {
          "output_type": "display_data",
          "data": {
            "text/plain": [
              "<Figure size 432x288 with 1 Axes>"
            ],
            "image/png": "[encoded data removed]"
          },
          "metadata": {
            "needs_background": "light"
          }
        }
      ]
    },
    {
      "cell_type": "code",
      "metadata": {
        "id": "uDx2Im8rCwsV",
        "colab": {
          "base_uri": "https://localhost:8080/",
          "height": 248
        },
        "outputId": "b7d28028-0036-4612-b132-97c646ac6473"
      },
      "source": [
        "#don't like this one. Eh, upon further inspection, it's okay I guess.\n",
        "fig3d = plt.figure()\n",
        "ax3D = fig3d.add_subplot(1,1,1, projection=\"3d\")\n",
        "ax3D.set_facecolor('black')\n",
        "plt.gca().patch.set_facecolor('black')\n",
        "ax3D.grid(False)\n",
        "plt.title('3D Constellation: Orion')\n",
        "ax3D.set_xlabel('x coordinates')\n",
        "ax3D.set_ylabel('y coordinates')\n",
        "ax3D.set_zlabel('z coordinates')\n",
        "ax3D.w_xaxis.set_pane_color((0, 0, 0, 0))\n",
        "ax3D.w_yaxis.set_pane_color((0, 0, 0, 0))\n",
        "ax3D.w_zaxis.set_pane_color((0, 0, 0, 0))\n",
        "\n",
        "ax3D.scatter(x,y,z, c='gold', marker = '*', s= 70)\n",
        "ax3D.plot(x,y,z, c='gold', marker ='*') #with lines\n",
        "\n",
        "plt.show()"
      ],
      "execution_count": 12,
      "outputs": [
        {
          "output_type": "display_data",
          "data": {
            "text/plain": [
              "<Figure size 432x288 with 1 Axes>"
            ],
            "image/png": "[encoded data removed]"
          },
          "metadata": {
            "needs_background": "light"
          }
        }
      ]
    },
    {
      "cell_type": "markdown",
      "metadata": {
        "id": "FCdulmzzViu1"
      },
      "source": [
        "## 5. Rotate and explore\n",
        "\n",
        "Use your mouse to click and drag the 3D visualization in the previous step. This will rotate the scatter plot. As you rotate, can you see Orion from different angles? \n",
        "\n",
        "Note: The on and off button that appears above the 3D scatter plot allows you to toggle rotation of your 3D visualization in your notebook.\n",
        "\n",
        "Take your time, rotate around! Remember, this will never look exactly like the Orion we see from Earth. The visualization does not curve as the night sky does.\n",
        "There is beauty in the new understanding of Earthly perspective! We see the shape of the warrior Orion because of Earth's location in the universe and the location of the stars in that constellation.\n",
        "\n",
        "Feel free to map more stars by looking up other celestial x, y, z coordinates [here](http://www.stellar-database.com/).\n"
      ]
    },
    {
      "cell_type": "code",
      "metadata": {
        "id": "BUlVXZZwViu1"
      },
      "source": [
        ""
      ],
      "execution_count": null,
      "outputs": []
    },
    {
      "cell_type": "code",
      "metadata": {
        "id": "Ygvj0U2bK3F8"
      },
      "source": [
        ""
      ],
      "execution_count": null,
      "outputs": []
    },
    {
      "cell_type": "code",
      "metadata": {
        "id": "JXHN523XU9Jo"
      },
      "source": [
        ""
      ],
      "execution_count": null,
      "outputs": []
    },
    {
      "cell_type": "code",
      "metadata": {
        "id": "l_S_yBL3U9Gl"
      },
      "source": [
        ""
      ],
      "execution_count": null,
      "outputs": []
    },
    {
      "cell_type": "code",
      "metadata": {
        "id": "LJDOZPUrU9DO"
      },
      "source": [
        ""
      ],
      "execution_count": null,
      "outputs": []
    }
  ]
}